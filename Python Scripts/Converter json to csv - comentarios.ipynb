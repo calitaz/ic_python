{
 "cells": [
  {
   "cell_type": "code",
   "execution_count": 15,
   "metadata": {},
   "outputs": [],
   "source": [
    "import pandas as pd\n",
    "from pandas import DataFrame\n",
    "from tkinter import Tk\n",
    "from tkinter.filedialog import askopenfilename\n",
    "import os\n",
    "\n",
    "Tk().withdraw()\n",
    "filename = askopenfilename()\n",
    "arquivo = os.path.split(filename)\n",
    "arquivo_csv = arquivo[1].split('.')[0] + \".csv\"\n",
    "\n",
    "with open(arquivo[1], encoding='utf-8') as converted:\n",
    "    df = pd.read_json(converted, orient='index')\n",
    "\n",
    "df.to_csv(arquivo_csv, columns=['link','comentarios','data_comentario'], sep=';', encoding='utf-8', index=False)\n",
    "\n"
   ]
  },
  {
   "cell_type": "code",
   "execution_count": null,
   "metadata": {},
   "outputs": [],
   "source": []
  }
 ],
 "metadata": {
  "kernelspec": {
   "display_name": "Python 3",
   "language": "python",
   "name": "python3"
  },
  "language_info": {
   "codemirror_mode": {
    "name": "ipython",
    "version": 3
   },
   "file_extension": ".py",
   "mimetype": "text/x-python",
   "name": "python",
   "nbconvert_exporter": "python",
   "pygments_lexer": "ipython3",
   "version": "3.7.3"
  }
 },
 "nbformat": 4,
 "nbformat_minor": 2
}
